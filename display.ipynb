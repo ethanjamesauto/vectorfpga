{
 "cells": [
  {
   "cell_type": "code",
   "execution_count": null,
   "metadata": {},
   "outputs": [],
   "source": [
    "import matplotlib.pyplot as plt"
   ]
  },
  {
   "cell_type": "code",
   "execution_count": null,
   "metadata": {},
   "outputs": [],
   "source": [
    "\n",
    "with open('out.txt') as file:\n",
    "    file.readline()\n",
    "    #i = .1\n",
    "    x = 0\n",
    "    y = 0\n",
    "    for line in file.readlines():\n",
    "        channel = line[9]\n",
    "        val = int(line[line.find('e:') + 2:])\n",
    "        if channel == '0':\n",
    "            x = val\n",
    "        else:\n",
    "            y = val\n",
    "        plt.scatter(x, y)\n",
    "plt.show()\n",
    "        "
   ]
  }
 ],
 "metadata": {
  "kernelspec": {
   "display_name": "Python 3.10.5 64-bit",
   "language": "python",
   "name": "python3"
  },
  "language_info": {
   "codemirror_mode": {
    "name": "ipython",
    "version": 3
   },
   "file_extension": ".py",
   "mimetype": "text/x-python",
   "name": "python",
   "nbconvert_exporter": "python",
   "pygments_lexer": "ipython3",
   "version": "3.10.5"
  },
  "orig_nbformat": 4,
  "vscode": {
   "interpreter": {
    "hash": "3d99d9eb2277144527de8d4eac28345056b6e76b04b7dd1ea1ada924da721680"
   }
  }
 },
 "nbformat": 4,
 "nbformat_minor": 2
}
